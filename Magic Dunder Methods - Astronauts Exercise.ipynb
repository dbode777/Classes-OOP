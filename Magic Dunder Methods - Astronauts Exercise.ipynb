{
 "cells": [
  {
   "cell_type": "markdown",
   "metadata": {
    "azdata_cell_guid": "3b186af5-b9c4-4039-bfb6-3c1bd2aad8b7"
   },
   "source": [
    "# Magic Dunder Methods - Astronauts Exercise:\n",
    "\n",
    "The astronauts dataset was obtained from the following website: [NASA Astronauts, 1959-Present | Kaggle](https://www.kaggle.com/nasa/astronaut-yearbook?select=astronauts.csv).\n",
    "\n",
    "We will use \\_\\_gt\\_\\_, \\_\\_ge\\_\\_, and \\_\\_eq\\_\\_ dunder methods to compare flight times for the astronauts. First, let's make an Astronaut class."
   ]
  },
  {
   "cell_type": "markdown",
   "metadata": {
    "azdata_cell_guid": "5f7d929d-9fb0-462d-96aa-f18f30419592"
   },
   "source": [
    "The model for this class looks as such: \n",
    "\n",
    "class Astronaut():\n",
    "\n",
    "\\=========================================================================\n",
    "\n",
    "Properties/ Attributes:\n",
    "\n",
    "\\+ name: str\n",
    "\n",
    "\\+ year: int\n",
    "\n",
    "\\+ space\\_walks\\_(hr): int\n",
    "\n",
    "\\+ space\\_flight\\_(hr) : int\n",
    "\n",
    "\\+ status: str\n",
    "\n",
    "\\=========================================================================\n",
    "\n",
    "Methods:\n",
    "\n",
    "\\+ \\_\\_gt\\_\\_: boolean\n",
    "\n",
    "\\+ \\_\\_ge\\_\\_: boolean\n",
    "\n",
    "\\+ \\_\\_eq\\_\\_: boolean\n",
    "\n",
    "\\+ get methods\n",
    "\n",
    "\\+ set methods\n",
    "\n",
    "\\+ del methods"
   ]
  },
  {
   "cell_type": "code",
   "execution_count": 2,
   "metadata": {
    "azdata_cell_guid": "a08de4b4-ed56-491c-a96e-8a6d22833130"
   },
   "outputs": [],
   "source": [
    "import csv\n",
    "\n",
    "with open(\"astronauts.csv\", \"rt\") as file:\n",
    "    astronauts = csv.reader(file)\n",
    "    astronauts_gen_info = []\n",
    "    for row in astronauts:\n",
    "        astronauts_gen_info.append({\"name\":f\"{row[0]}\",\"status\":f\"{row[3]}\",\"space_walks\":f\"{row[14]}\",\n",
    "                                    \"space_walks_hr\":f\"{row[15]}\", \"space_flights\":f\"{row[12]}\",\n",
    "                                    \"space_flights_hr\":f\"{row[13]}\"})"
   ]
  },
  {
   "cell_type": "markdown",
   "metadata": {},
   "source": [
    "## Part II: \n",
    "\n",
    "Now create an astronaut class to use for astronaut objects"
   ]
  },
  {
   "cell_type": "code",
   "execution_count": 3,
   "metadata": {},
   "outputs": [],
   "source": [
    "class Astronaut():\n",
    "    \n",
    "    def __init__(self, name: str, status: str, space_walks: int, space_walks_hr: int, space_flights: int, space_flights_hr: int):\n",
    "        self._name = name\n",
    "        self._status = status\n",
    "        self._space_walks = space_walks\n",
    "        self._space_walks_hr = space_walks_hr\n",
    "        self._space_flights = space_flights\n",
    "        self._space_flights_hr = space_flights_hr\n",
    "        \n",
    "    def get_name(self):\n",
    "        return self._name\n",
    "    def set_name(self):\n",
    "        self._name = name\n",
    "        \n",
    "    def get_status(self):\n",
    "        return self._status\n",
    "    def set_name(self):\n",
    "        self._status = status  \n",
    "        \n",
    "    def get_space_walks(self):\n",
    "        return self._space_walks\n",
    "    def set_space_walks(self):\n",
    "        self._space_walks = space_walks\n",
    "    \n",
    "    def get_space_walks_hr(self):\n",
    "        return self._space_walks_hr\n",
    "    def set_space_walks_hr(self):\n",
    "        self._space_walks_hr = space_walks_hr\n",
    "        \n",
    "    def get_space_flights(self):\n",
    "        return self._space_flights\n",
    "    def set_space_flights(self):\n",
    "        self._space_flights = space_flights\n",
    "        \n",
    "    def get_space_flights_hr(self):\n",
    "        return self._space_flights_hr\n",
    "    def set_space_flights_hr(self):\n",
    "        self._space_flights_hr = space_flights_hr\n",
    "    \n",
    "    def __str__(self):\n",
    "        return f\"Name: {self._name},\\nStatus: {self._status},\\nSpace Flight (hr): {self._space_flights_hr}\"\n",
    "    \n",
    "    # Only compares space_flight_hrs\n",
    "    def __gt__(self,other):\n",
    "        return self._space_flights_hr > other._space_flights_hr\n",
    "    def __ge__(self,other):\n",
    "        return self._space_flights_hr >= other._space_flights_hr\n",
    "    def __eq__(self,other):\n",
    "        return self._space_flights_hr == other._space_flights_hr"
   ]
  },
  {
   "cell_type": "markdown",
   "metadata": {},
   "source": [
    "## Part III\n",
    "\n",
    "Pick two random astronauts from the list into a selection list and compare them. Print the mutable properties of the first astronaut selected. Print out the all the astronauts in the selection list."
   ]
  },
  {
   "cell_type": "code",
   "execution_count": 5,
   "metadata": {},
   "outputs": [
    {
     "name": "stdout",
     "output_type": "stream",
     "text": [
      "Does Jeanette J. Epps have more space flight hours than J. Mike Lounge\n",
      "False\n",
      "Does Jeanette J. Epps have an equal amount of space flight hours than J. Mike Lounge\n",
      "False\n",
      "\n",
      "Name: Jeanette J. Epps,\n",
      "Status: Active,\n",
      "Space Flight (hr): 0\n",
      "\n",
      "\n",
      "Name: J. Mike Lounge,\n",
      "Status: Deceased,\n",
      "Space Flight (hr): 483\n",
      "\n",
      "_name: Jeanette J. Epps\n",
      "_status: Active\n",
      "_space_walks: 0\n",
      "_space_walks_hr: 0\n",
      "_space_flights: 0\n",
      "_space_flights_hr: 0\n"
     ]
    }
   ],
   "source": [
    "import random\n",
    "\n",
    "# Pick 2 random astronauts to consider for an asteroid mining expedition \n",
    "astro_copy = astronauts_gen_info[1:].copy()\n",
    "astropeep_uno = astro_copy.pop(random.choice([x for x in range(0,len(astro_copy))]))\n",
    "astropeep_dos = astro_copy.pop(random.choice([x for x in range(0,len(astro_copy))]))\n",
    "\n",
    "# First candidate object\n",
    "name1 = astropeep_uno['name']\n",
    "status1 = astropeep_uno['status']\n",
    "space_walks1 = astropeep_uno['space_walks']\n",
    "space_walks_hr1 = astropeep_uno['space_walks_hr']\n",
    "space_flights1 = astropeep_uno['space_flights']\n",
    "space_flights_hr1 = astropeep_uno['space_flights_hr']\n",
    "candidate1 = Astronaut(name1,status1,space_walks1,space_walks_hr1,\n",
    "                       space_flights1, space_flights_hr1)\n",
    "\n",
    "# Second candidate object\n",
    "name2 = astropeep_dos['name']\n",
    "status2 = astropeep_dos['status']\n",
    "space_walks2 = astropeep_dos['space_walks']\n",
    "space_walks_hr2 = astropeep_dos['space_walks_hr']\n",
    "space_flights2 = astropeep_dos['space_flights']\n",
    "space_flights_hr2 = astropeep_dos['space_flights_hr']\n",
    "candidate2 = Astronaut(name2,status2,space_walks2,space_walks_hr2,\n",
    "                       space_flights2, space_flights_hr2)\n",
    "\n",
    "selection_list = [candidate1,candidate2]\n",
    "\n",
    "\n",
    "# Who's flying the ship?\n",
    "print(f\"Does {candidate1.get_name()} have more space flight hours than {candidate2.get_name()}\")\n",
    "print(selection_list[0] > selection_list[1])\n",
    "\n",
    "print(f\"Does {astropeep_uno['name']} have an equal amount of space flight hours than {astropeep_dos['name']}\")\n",
    "print(selection_list[0] == selection_list[1])\n",
    "\n",
    "# Let's honor these heroic figures by printing their names\n",
    "for i in selection_list:\n",
    "    print(f\"\\n{i}\\n\")\n",
    "    \n",
    "# Grabs first astronaut picked and checks to see which values are mutable\n",
    "\n",
    "for i in range(0,len(selection_list[0].__dict__.keys())):\n",
    "    print(f\"{list(selection_list[0].__dict__.keys())[i]}: {list(selection_list[0].__dict__.values())[i]}\")"
   ]
  },
  {
   "cell_type": "code",
   "execution_count": null,
   "metadata": {},
   "outputs": [],
   "source": []
  }
 ],
 "metadata": {
  "kernelspec": {
   "display_name": "Python 3 (ipykernel)",
   "language": "python",
   "name": "python3"
  },
  "language_info": {
   "codemirror_mode": {
    "name": "ipython",
    "version": 3
   },
   "file_extension": ".py",
   "mimetype": "text/x-python",
   "name": "python",
   "nbconvert_exporter": "python",
   "pygments_lexer": "ipython3",
   "version": "3.8.5"
  }
 },
 "nbformat": 4,
 "nbformat_minor": 2
}
